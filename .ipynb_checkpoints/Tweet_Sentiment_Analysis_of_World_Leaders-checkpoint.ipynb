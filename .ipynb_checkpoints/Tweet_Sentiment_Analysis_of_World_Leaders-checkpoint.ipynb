{
 "cells": [
  {
   "cell_type": "code",
   "execution_count": 3,
   "metadata": {},
   "outputs": [],
   "source": [
    "import tweepy\n",
    "from textblob import TextBlob"
   ]
  },
  {
   "cell_type": "code",
   "execution_count": 4,
   "metadata": {},
   "outputs": [],
   "source": [
    "consumer_key = \"sO9ljsbFEFDlZeFb1Eum2kA6Y\"\n",
    "consumer_secret = \"1JFFSK459h32uQkdqVG85Yw3od4qN2HqsgCntR8aSachKhZR0n\"\n",
    "access_token = \"1127660761969414144-9ESke0KNZQXroIT9JUJKXbwu06iDLP\"\n",
    "access_token_secret = \"lCjLVhWFpj7qM8bCJCoknw37J7Gre0GANuPQhOhrFOmoz\""
   ]
  },
  {
   "cell_type": "code",
   "execution_count": 5,
   "metadata": {},
   "outputs": [],
   "source": [
    "auth = tweepy.OAuthHandler(consumer_key, consumer_secret)\n",
    "auth.set_access_token(access_token, access_token_secret)"
   ]
  },
  {
   "cell_type": "code",
   "execution_count": 6,
   "metadata": {},
   "outputs": [],
   "source": [
    "api = tweepy.API(auth)"
   ]
  },
  {
   "cell_type": "code",
   "execution_count": 17,
   "metadata": {},
   "outputs": [],
   "source": [
    "public_tweets = api.user_timeline('@narendramodi', count = 20)"
   ]
  },
  {
   "cell_type": "code",
   "execution_count": 18,
   "metadata": {},
   "outputs": [
    {
     "name": "stdout",
     "output_type": "stream",
     "text": [
      "___________________________________________________________________________________________________\n",
      "Good gesture by the @DelhiPolice.\n",
      "\n",
      "Our Gurudwaras have been doing exceptional work in serving people. Their compass… https://t.co/qPRkYD2Knt\n",
      "Sentiment(polarity=0.6833333333333333, subjectivity=0.8)\n",
      "___________________________________________________________________________________________________\n",
      "Today was the 4th interaction with CMs. We continued discussions on COVID-19 containing strategy as well as aspects… https://t.co/IV7yvWJkQY\n",
      "Sentiment(polarity=0.0, subjectivity=0.0)\n",
      "___________________________________________________________________________________________________\n",
      "Shared my thoughts about the rich and noble ideals of Lord Basavanna in the video conference - Global Basava Jayant… https://t.co/dVhAxBBM0O\n",
      "Sentiment(polarity=0.325, subjectivity=0.5499999999999999)\n",
      "___________________________________________________________________________________________________\n",
      "समस्त देशवासियों को परशुराम जयंती की हार्दिक बधाई। तप, बल और साहस के प्रतीक भगवान परशुराम के आदर्श युगों-युगों तक… https://t.co/frKcmLL8r1\n",
      "Sentiment(polarity=0.0, subjectivity=0.0)\n",
      "___________________________________________________________________________________________________\n",
      "प्रकृति, विकृति और संस्कृति, इन शब्दों के पीछे के भाव को देखें तो जीवन को समझने का एक नया द्वार खुलता है। \n",
      "\n",
      "भारत ने… https://t.co/zgARp7xoEz\n",
      "Sentiment(polarity=0.0, subjectivity=0.0)\n",
      "___________________________________________________________________________________________________\n",
      "India cherishes the role of all those working on the frontline, protecting people and saving lives. \n",
      "\n",
      "The Epidemic… https://t.co/r13JQXEOKw\n",
      "Sentiment(polarity=0.0, subjectivity=0.0)\n",
      "___________________________________________________________________________________________________\n",
      "Let’s further popularise our traditional systems that can improve immunity as well as health. #MannKiBaat https://t.co/GSgi1R3N7I\n",
      "Sentiment(polarity=0.0, subjectivity=0.625)\n",
      "___________________________________________________________________________________________________\n",
      "Ramzan this year is taking place while we are in the midst of the battle against COVID-19. \n",
      "\n",
      "Let’s take the right p… https://t.co/n1TCqofPsy\n",
      "Sentiment(polarity=0.2857142857142857, subjectivity=0.5357142857142857)\n",
      "___________________________________________________________________________________________________\n",
      "Now there is:\n",
      "\n",
      "Realisation on the need to wear masks, including homemade options. \n",
      "\n",
      "Awareness on the need to end sp… https://t.co/KUKK8GTfkW\n",
      "Sentiment(polarity=0.0, subjectivity=0.0)\n",
      "___________________________________________________________________________________________________\n",
      "India’s fight against COVID-19 is people driven.\n",
      "\n",
      "Proud of our 130 crore citizens who have risen to the occasion an… https://t.co/LT13fdePSV\n",
      "Sentiment(polarity=0.8, subjectivity=1.0)\n",
      "___________________________________________________________________________________________________\n",
      "आप सबको अक्षय तृतीया की हार्दिक शुभकामनाएं।आइए, हम मिलकर अपने प्रयासों से अपनी धरती को ‘अक्षय’ और ‘अविनाशी’ बनाने… https://t.co/HiGnJdbfS3\n",
      "Sentiment(polarity=0.0, subjectivity=0.0)\n",
      "___________________________________________________________________________________________________\n",
      "Here is #MannKiBaat April 2020. https://t.co/tkteUgjck9\n",
      "Sentiment(polarity=0.0, subjectivity=0.0)\n",
      "___________________________________________________________________________________________________\n",
      "Have been getting several insightful inputs for this month's #MannKiBaat. Do tune at 11 AM tomorrow. https://t.co/bwPKfiXOYC\n",
      "Sentiment(polarity=0.0, subjectivity=0.0)\n",
      "___________________________________________________________________________________________________\n",
      "Commendable. \n",
      "\n",
      "Such efforts are important in the battle against COVID-19. https://t.co/ajSCmTxy9D\n",
      "Sentiment(polarity=0.2, subjectivity=0.75)\n",
      "___________________________________________________________________________________________________\n",
      "Kudos to the @IndiaPostOffice Network, our hardworking postmen for their stupendous efforts in assisting people dur… https://t.co/tenptxw8dX\n",
      "Sentiment(polarity=0.0, subjectivity=0.0)\n",
      "___________________________________________________________________________________________________\n",
      "Ramzan Mubarak! I pray for everyone’s safety, well-being and prosperity. May this Holy Month bring with it abundanc… https://t.co/BIsU1Na1td\n",
      "Sentiment(polarity=0.0, subjectivity=0.0)\n",
      "___________________________________________________________________________________________________\n",
      "ग्रामीण भारत के लोगों को उनकी संपत्ति का मालिकाना हक दिलाने और उन्हें आर्थिक रूप से सशक्त बनाने के लिए आज सरकार ने… https://t.co/SUcWAMJsUp\n",
      "Sentiment(polarity=0.0, subjectivity=0.0)\n",
      "___________________________________________________________________________________________________\n",
      "देश की सभी पंचायतों के एकीकृत संचालन, उनके विकास कार्यों की प्रभावी देखरेख और समस्त जानकारियों को एक प्लेटफॉर्म पर… https://t.co/JODELQduE9\n",
      "Sentiment(polarity=0.0, subjectivity=0.0)\n",
      "___________________________________________________________________________________________________\n",
      "Best wishes to Goa CM @DrPramodPSawant Ji on his birthday. May he be blessed with a long and healthy life in service of the people.\n",
      "Sentiment(polarity=0.48333333333333334, subjectivity=0.39999999999999997)\n",
      "___________________________________________________________________________________________________\n",
      "Today’s discussion with Panchayat Sarpanchs was very insightful. They shared their strategies of fighting COVID-19.… https://t.co/Q9Tst6Q97O\n",
      "Sentiment(polarity=0.2, subjectivity=0.3)\n"
     ]
    }
   ],
   "source": [
    "for tweet in public_tweets:\n",
    "    print(\"___________________________________________________________________________________________________\")\n",
    "    print(tweet.text)\n",
    "    analysis = TextBlob(tweet.text)\n",
    "    print(analysis.sentiment)"
   ]
  },
  {
   "cell_type": "code",
   "execution_count": null,
   "metadata": {},
   "outputs": [],
   "source": []
  }
 ],
 "metadata": {
  "kernelspec": {
   "display_name": "Python 3",
   "language": "python",
   "name": "python3"
  },
  "language_info": {
   "codemirror_mode": {
    "name": "ipython",
    "version": 3
   },
   "file_extension": ".py",
   "mimetype": "text/x-python",
   "name": "python",
   "nbconvert_exporter": "python",
   "pygments_lexer": "ipython3",
   "version": "3.7.4"
  }
 },
 "nbformat": 4,
 "nbformat_minor": 4
}
